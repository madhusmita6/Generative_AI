{
 "cells": [
  {
   "cell_type": "code",
   "execution_count": null,
   "metadata": {
    "colab": {
     "base_uri": "https://localhost:8080/"
    },
    "id": "erRJgN4yYWKP",
    "outputId": "f3ee7421-6949-44c4-bad0-98426eebe2a0"
   },
   "outputs": [
    {
     "name": "stdout",
     "output_type": "stream",
     "text": [
      "Requirement already satisfied: openai in /usr/local/lib/python3.10/dist-packages (1.37.1)\n",
      "Requirement already satisfied: anyio<5,>=3.5.0 in /usr/local/lib/python3.10/dist-packages (from openai) (3.7.1)\n",
      "Requirement already satisfied: distro<2,>=1.7.0 in /usr/lib/python3/dist-packages (from openai) (1.7.0)\n",
      "Requirement already satisfied: httpx<1,>=0.23.0 in /usr/local/lib/python3.10/dist-packages (from openai) (0.27.0)\n",
      "Requirement already satisfied: pydantic<3,>=1.9.0 in /usr/local/lib/python3.10/dist-packages (from openai) (2.8.2)\n",
      "Requirement already satisfied: sniffio in /usr/local/lib/python3.10/dist-packages (from openai) (1.3.1)\n",
      "Requirement already satisfied: tqdm>4 in /usr/local/lib/python3.10/dist-packages (from openai) (4.66.4)\n",
      "Requirement already satisfied: typing-extensions<5,>=4.7 in /usr/local/lib/python3.10/dist-packages (from openai) (4.12.2)\n",
      "Requirement already satisfied: idna>=2.8 in /usr/local/lib/python3.10/dist-packages (from anyio<5,>=3.5.0->openai) (3.7)\n",
      "Requirement already satisfied: exceptiongroup in /usr/local/lib/python3.10/dist-packages (from anyio<5,>=3.5.0->openai) (1.2.2)\n",
      "Requirement already satisfied: certifi in /usr/local/lib/python3.10/dist-packages (from httpx<1,>=0.23.0->openai) (2024.7.4)\n",
      "Requirement already satisfied: httpcore==1.* in /usr/local/lib/python3.10/dist-packages (from httpx<1,>=0.23.0->openai) (1.0.5)\n",
      "Requirement already satisfied: h11<0.15,>=0.13 in /usr/local/lib/python3.10/dist-packages (from httpcore==1.*->httpx<1,>=0.23.0->openai) (0.14.0)\n",
      "Requirement already satisfied: annotated-types>=0.4.0 in /usr/local/lib/python3.10/dist-packages (from pydantic<3,>=1.9.0->openai) (0.7.0)\n",
      "Requirement already satisfied: pydantic-core==2.20.1 in /usr/local/lib/python3.10/dist-packages (from pydantic<3,>=1.9.0->openai) (2.20.1)\n"
     ]
    }
   ],
   "source": [
    "!pip install openai"
   ]
  },
  {
   "cell_type": "markdown",
   "metadata": {
    "id": "OluImfBPajHo"
   },
   "source": [
    "* This notebook demonstrates how to use the OpenAI API to extract information from text descriptions.\n",
    "* Setup involves importing necessary libraries and configuring the OpenAI API key.\n"
   ]
  },
  {
   "cell_type": "markdown",
   "metadata": {
    "id": "aqzRZ6fK8rFk"
   },
   "source": [
    "Stage 1:Intent understanding & confirmation (json)\n",
    "Stage 2:Product extraction (json)\n",
    "Stage 3:Product recommendation (text)"
   ]
  },
  {
   "cell_type": "markdown",
   "metadata": {
    "id": "uwn6AxAecZ6r"
   },
   "source": [
    "### OpenAI Function calling\n",
    "With OpenAP API, handling unstructured data like strings is difficult due to the accustomed practice of working with structured data types. This often requires complex regular expressions or prompt engineering for information extraction.\n",
    "* Solution - ***Function Calling Capability***: OpenAI introduced function calling with GPT-3.5 and GPT-4 models, allowing for user-defined functions as input to generate structured outputs. This eliminates the need for cumbersome regular expressions or prompt engineering."
   ]
  },
  {
   "cell_type": "markdown",
   "metadata": {
    "id": "I7Ila-CFdRgo"
   },
   "source": [
    "## Without function calling"
   ]
  },
  {
   "cell_type": "code",
   "execution_count": 3,
   "metadata": {
    "id": "FcCHa-iIYZCc"
   },
   "outputs": [],
   "source": [
    "\n",
    "import os,json,ast\n",
    "import openai\n",
    "import pandas as pd\n",
    "\n",
    "# Configure OpenAI API key\n",
    "# It's recommended to set your OpenAI API key as an environment variable for security purposes.\n",
    "openai.api_key = open(\"D:\\GenAI\\Keys\\OpenAI_API_Key.txt\", \"r\").read().strip()\n",
    "if openai.api_key is None:\n",
    "    raise ValueError(\"Please set the OpenAI_API_Key environment variable.\")"
   ]
  },
  {
   "cell_type": "code",
   "execution_count": 4,
   "metadata": {
    "colab": {
     "background_save": true
    },
    "id": "KDXkvkiHXzHJ"
   },
   "outputs": [],
   "source": [
    "\n",
    "# -------------\n",
    "student_1_description = \"David Nguyen is a sophomore majoring in computer science at Stanford University. He is Asian American and has a 3.8 GPA. David is known for his programming skills and is an active member of the university's Robotics Club. He hopes to pursue a career in artificial intelligence after graduating.\"\n",
    "# -------------\n",
    "# Define the prompt template\n",
    "# A simple prompt to extract information from \"student_description\" in a JSON format.\n",
    "prompt_1 = f'''\n",
    "Please extract the following information from the given text and return it as a JSON object:\n",
    "\n",
    "name\n",
    "major\n",
    "school\n",
    "grades\n",
    "club\n",
    "\n",
    "This is the body of text to extract the information from:\n",
    "{student_1_description}\n",
    "'''\n"
   ]
  },
  {
   "cell_type": "code",
   "execution_count": 5,
   "metadata": {
    "colab": {
     "background_save": true,
     "base_uri": "https://localhost:8080/",
     "height": 53
    },
    "id": "anWF_wzQX3Ub",
    "outputId": "5d149620-8e8c-4766-acde-434624a2952b"
   },
   "outputs": [
    {
     "data": {
      "text/plain": [
       "'{\\n  \"name\": \"David Nguyen\",\\n  \"major\": \"computer science\",\\n  \"school\": \"Stanford University\",\\n  \"grades\": 3.8,\\n  \"club\": \"Robotics Club\"\\n}'"
      ]
     },
     "execution_count": 5,
     "metadata": {},
     "output_type": "execute_result"
    }
   ],
   "source": [
    "# Generating response back from gpt-3.5-turbo\n",
    "openai_response = openai.chat.completions.create(\n",
    "    model = 'gpt-3.5-turbo',\n",
    "    messages = [{'role': 'user', 'content': prompt_1}]\n",
    ")\n",
    "\n",
    "openai_response.choices[0].message.content"
   ]
  },
  {
   "cell_type": "code",
   "execution_count": 6,
   "metadata": {
    "colab": {
     "base_uri": "https://localhost:8080/"
    },
    "id": "GAlvmq9zX3vO",
    "outputId": "0293bb3c-1ab6-4c5f-ccc2-b4db064facd2"
   },
   "outputs": [
    {
     "data": {
      "text/plain": [
       "{'name': 'David Nguyen',\n",
       " 'major': 'computer science',\n",
       " 'school': 'Stanford University',\n",
       " 'grades': 3.8,\n",
       " 'club': 'Robotics Club'}"
      ]
     },
     "execution_count": 6,
     "metadata": {},
     "output_type": "execute_result"
    }
   ],
   "source": [
    "import json\n",
    "\n",
    "# Loading the response as a JSON object\n",
    "json_response = json.loads(openai_response.choices[0].message.content)\n",
    "json_response"
   ]
  },
  {
   "cell_type": "code",
   "execution_count": 7,
   "metadata": {
    "id": "WXRffKHDX5wr"
   },
   "outputs": [],
   "source": [
    "student_2_description=\"Ravi Patel is a sophomore majoring in computer science at the University of Michigan. He is South Asian Indian American and has a 3.7 GPA. Ravi is an active member of the university's Chess Club and the South Asian Student Association. He hopes to pursue a career in software engineering after graduating.\""
   ]
  },
  {
   "cell_type": "code",
   "execution_count": 8,
   "metadata": {
    "id": "JT-T-17xX9H8"
   },
   "outputs": [],
   "source": [
    "prompt_2 = f'''\n",
    "Please extract the following information from the given text and return it as a JSON object:\n",
    "\n",
    "name\n",
    "major\n",
    "school\n",
    "grades\n",
    "club\n",
    "\n",
    "This is the body of text to extract the information from:\n",
    "{student_2_description}\n",
    "'''"
   ]
  },
  {
   "cell_type": "code",
   "execution_count": 9,
   "metadata": {
    "colab": {
     "base_uri": "https://localhost:8080/"
    },
    "id": "Jy0R8zvSX_Li",
    "outputId": "3ae4cbd8-279e-49b2-e0c4-811e632246c5"
   },
   "outputs": [
    {
     "data": {
      "text/plain": [
       "{'name': 'Ravi Patel',\n",
       " 'major': 'computer science',\n",
       " 'school': 'University of Michigan',\n",
       " 'grades': '3.7 GPA',\n",
       " 'club': ['Chess Club', 'South Asian Student Association']}"
      ]
     },
     "execution_count": 9,
     "metadata": {},
     "output_type": "execute_result"
    }
   ],
   "source": [
    "# Generating response back from gpt-3.5-turbo\n",
    "openai_response = openai.chat.completions.create(\n",
    "    model = 'gpt-3.5-turbo',\n",
    "    messages = [{'role': 'user', 'content': prompt_2}]\n",
    ")\n",
    "\n",
    "# Loading the response as a JSON object\n",
    "json_response = json.loads(openai_response.choices[0].message.content)\n",
    "json_response"
   ]
  },
  {
   "cell_type": "markdown",
   "metadata": {
    "id": "BIH0TESiden4"
   },
   "source": [
    "## With Function calling"
   ]
  },
  {
   "cell_type": "markdown",
   "metadata": {
    "id": "JKNHPUeldsaS"
   },
   "source": [
    "It is essential to create a custom function to add necessary information to a list of dictionaries so that the OpenAI API can understand its functionality.\n",
    "\n",
    "* name: write the Python function name that you have recently created.\n",
    "* description: the functionality of the function.\n",
    "* parameters: within the “properties”, we will write the name of the arguments, type, and description.\n",
    "\n",
    "It will help OpenAI API to identify the world that we are looking for.\n",
    "\n",
    "Source: https://platform.openai.com/docs/guides/text-generation/function-calling"
   ]
  },
  {
   "cell_type": "code",
   "execution_count": 10,
   "metadata": {
    "id": "qVQ4mWc8YA4R"
   },
   "outputs": [],
   "source": [
    "student_custom_functions = [\n",
    "    {\n",
    "        'name': 'extract_student_info',\n",
    "        'description': 'Get the student information from the body of the input text',\n",
    "        'parameters': {\n",
    "            'type': 'object',\n",
    "            'properties': {\n",
    "                'name': {\n",
    "                    'type': 'string',\n",
    "                    'description': 'Name of the person'\n",
    "                },\n",
    "                'major': {\n",
    "                    'type': 'string',\n",
    "                    'description': 'Major subject.'\n",
    "                },\n",
    "                'school': {\n",
    "                    'type': 'string',\n",
    "                    'description': 'The university name.'\n",
    "                },\n",
    "                'grades': {\n",
    "                    'type': 'integer',\n",
    "                    'description': 'GPA of the student.'\n",
    "                },\n",
    "                'club': {\n",
    "                    'type': 'string',\n",
    "                    'description': 'School club for extracurricular activities. '\n",
    "                }\n",
    "\n",
    "            }\n",
    "        }\n",
    "    }\n",
    "]"
   ]
  },
  {
   "cell_type": "code",
   "execution_count": 11,
   "metadata": {
    "colab": {
     "base_uri": "https://localhost:8080/"
    },
    "id": "JcVqsKpuYC20",
    "outputId": "ed38ff92-5b7f-4394-c434-b312e95d2b2c"
   },
   "outputs": [
    {
     "data": {
      "text/plain": [
       "[{'name': 'extract_student_info',\n",
       "  'description': 'Get the student information from the body of the input text',\n",
       "  'parameters': {'type': 'object',\n",
       "   'properties': {'name': {'type': 'string',\n",
       "     'description': 'Name of the person'},\n",
       "    'major': {'type': 'string', 'description': 'Major subject.'},\n",
       "    'school': {'type': 'string', 'description': 'The university name.'},\n",
       "    'grades': {'type': 'integer', 'description': 'GPA of the student.'},\n",
       "    'club': {'type': 'string',\n",
       "     'description': 'School club for extracurricular activities. '}}}}]"
      ]
     },
     "execution_count": 11,
     "metadata": {},
     "output_type": "execute_result"
    }
   ],
   "source": [
    "student_custom_functions"
   ]
  },
  {
   "cell_type": "code",
   "execution_count": 12,
   "metadata": {
    "colab": {
     "background_save": true,
     "base_uri": "https://localhost:8080/"
    },
    "id": "5HK267UYYEq9",
    "outputId": "e53abe47-56b6-444e-b582-5a7f76193ab3"
   },
   "outputs": [
    {
     "name": "stdout",
     "output_type": "stream",
     "text": [
      "{'name': 'David Nguyen', 'major': 'Computer Science', 'school': 'Stanford University', 'grades': 3.8, 'club': 'Robotics Club'}\n",
      "{'name': 'Ravi Patel', 'major': 'computer science', 'school': 'University of Michigan', 'grades': 3.7, 'club': 'Chess Club'}\n"
     ]
    }
   ],
   "source": [
    "student_description = [student_1_description,student_2_description]\n",
    "for i in student_description:\n",
    "    response = openai.chat.completions.create(\n",
    "        model = 'gpt-3.5-turbo',\n",
    "        messages = [{'role': 'user', 'content': i}],\n",
    "        functions = student_custom_functions,\n",
    "        function_call = 'auto'\n",
    "    )\n",
    "\n",
    "    # Loading the response as a JSON object\n",
    "    json_response = json.loads(response.choices[0].message.function_call.arguments)\n",
    "    print(json_response)"
   ]
  },
  {
   "cell_type": "code",
   "execution_count": 13,
   "metadata": {
    "id": "FT3WqWpnYGO4"
   },
   "outputs": [],
   "source": [
    "\n",
    "custom_functions = [\n",
    "    {\n",
    "        'name': 'extract_student_info',\n",
    "        'description': 'Get the student information from the body of the input text',\n",
    "        'parameters': {\n",
    "            'type': 'object',\n",
    "            'properties': {\n",
    "                'name': {\n",
    "                    'type': 'string',\n",
    "                    'description': 'Name of the person'\n",
    "                },\n",
    "                'major': {\n",
    "                    'type': 'string',\n",
    "                    'description': 'Major subject.'\n",
    "                },\n",
    "                'school': {\n",
    "                    'type': 'string',\n",
    "                    'description': 'The university name.'\n",
    "                },\n",
    "                'grades': {\n",
    "                    'type': 'integer',\n",
    "                    'description': 'GPA of the student.'\n",
    "                },\n",
    "                'club': {\n",
    "                    'type': 'string',\n",
    "                    'description': 'School club for extracurricular activities. '\n",
    "                }\n",
    "\n",
    "            }\n",
    "        }\n",
    "    },\n",
    "    {\n",
    "        'name': 'extract_school_info',\n",
    "        'description': 'Get the school information from the body of the input text',\n",
    "        'parameters': {\n",
    "            'type': 'object',\n",
    "            'properties': {\n",
    "                'name': {\n",
    "                    'type': 'string',\n",
    "                    'description': 'Name of the school.'\n",
    "                },\n",
    "                'ranking': {\n",
    "                    'type': 'integer',\n",
    "                    'description': 'QS world ranking of the school.'\n",
    "                },\n",
    "                'country': {\n",
    "                    'type': 'string',\n",
    "                    'description': 'Country of the school.'\n",
    "                },\n",
    "                'no_of_students': {\n",
    "                    'type': 'integer',\n",
    "                    'description': 'Number of students enrolled in the school.'\n",
    "                }\n",
    "            }\n",
    "        }\n",
    "    }\n",
    "]"
   ]
  },
  {
   "cell_type": "code",
   "execution_count": 14,
   "metadata": {
    "colab": {
     "base_uri": "https://localhost:8080/"
    },
    "id": "dSXy7kQrYHxo",
    "outputId": "849d96c3-73df-4c11-ca79-8fd5c5e061fb"
   },
   "outputs": [
    {
     "data": {
      "text/plain": [
       "[{'name': 'extract_student_info',\n",
       "  'description': 'Get the student information from the body of the input text',\n",
       "  'parameters': {'type': 'object',\n",
       "   'properties': {'name': {'type': 'string',\n",
       "     'description': 'Name of the person'},\n",
       "    'major': {'type': 'string', 'description': 'Major subject.'},\n",
       "    'school': {'type': 'string', 'description': 'The university name.'},\n",
       "    'grades': {'type': 'integer', 'description': 'GPA of the student.'},\n",
       "    'club': {'type': 'string',\n",
       "     'description': 'School club for extracurricular activities. '}}}},\n",
       " {'name': 'extract_school_info',\n",
       "  'description': 'Get the school information from the body of the input text',\n",
       "  'parameters': {'type': 'object',\n",
       "   'properties': {'name': {'type': 'string',\n",
       "     'description': 'Name of the school.'},\n",
       "    'ranking': {'type': 'integer',\n",
       "     'description': 'QS world ranking of the school.'},\n",
       "    'country': {'type': 'string', 'description': 'Country of the school.'},\n",
       "    'no_of_students': {'type': 'integer',\n",
       "     'description': 'Number of students enrolled in the school.'}}}}]"
      ]
     },
     "execution_count": 14,
     "metadata": {},
     "output_type": "execute_result"
    }
   ],
   "source": [
    "custom_functions"
   ]
  },
  {
   "cell_type": "code",
   "execution_count": 15,
   "metadata": {
    "id": "cHljR9DgYJVd"
   },
   "outputs": [],
   "source": [
    "school_1_description = \"Stanford University is a private research university located in Stanford, California, United States. It was founded in 1885 by Leland Stanford and his wife, Jane Stanford, in memory of their only child, Leland Stanford Jr. The university is ranked #5 in the world by QS World University Rankings. It has over 17,000 students, including about 7,600 undergraduates and 9,500 graduates23. \""
   ]
  },
  {
   "cell_type": "code",
   "execution_count": 16,
   "metadata": {
    "colab": {
     "background_save": true,
     "base_uri": "https://localhost:8080/"
    },
    "id": "9NDoy38lYKzD",
    "outputId": "75e08f99-8a16-45a5-c6fd-fb236ca1a6bb"
   },
   "outputs": [
    {
     "name": "stdout",
     "output_type": "stream",
     "text": [
      "{'name': 'David Nguyen', 'major': 'computer science', 'school': 'Stanford University', 'grades': 3.8, 'club': 'Robotics Club'}\n",
      "{'name': 'Stanford University', 'ranking': 5, 'country': 'United States', 'no_of_students': 17000}\n"
     ]
    }
   ],
   "source": [
    "description = [student_1_description, school_1_description]\n",
    "for i in description:\n",
    "    response = openai.chat.completions.create(\n",
    "        model = 'gpt-3.5-turbo',\n",
    "        messages = [{'role': 'user', 'content': i}],\n",
    "        functions = custom_functions,\n",
    "        function_call = 'auto'\n",
    "    )\n",
    "\n",
    "    # Loading the response as a JSON object\n",
    "    json_response = json.loads(response.choices[0].message.function_call.arguments)\n",
    "    print(json_response)"
   ]
  },
  {
   "cell_type": "markdown",
   "metadata": {
    "id": "0_Zb_M5l48wk"
   },
   "source": [
    "1. get the output in json\n",
    "2. select the function and return the output"
   ]
  },
  {
   "cell_type": "code",
   "execution_count": 17,
   "metadata": {
    "id": "TnVpiJDkYMTi"
   },
   "outputs": [],
   "source": [
    "def extract_student_info(name, major, school, grades, club):\n",
    "\n",
    "    \"\"\"Get the student information\"\"\"\n",
    "\n",
    "    return f\"{name} is majoring in {major} at {school}. He has {grades} GPA and he is an active member of the university's {club}.\"\n",
    "\n",
    "def extract_school_info(name, ranking, country, no_of_students):\n",
    "\n",
    "    \"\"\"Get the school information\"\"\"\n",
    "\n",
    "    return f\"{name} is located in the {country}. The university is ranked #{ranking} in the world with {no_of_students} students.\""
   ]
  },
  {
   "cell_type": "code",
   "execution_count": 18,
   "metadata": {
    "colab": {
     "base_uri": "https://localhost:8080/"
    },
    "id": "r1B3QVXNYNzm",
    "outputId": "b6763f8e-5be8-42ed-bb31-e10a3d3a3a51"
   },
   "outputs": [
    {
     "name": "stdout",
     "output_type": "stream",
     "text": [
      "\n",
      "Sample#1\n",
      "\n",
      "Function called: extract_student_info\n",
      "David Nguyen is majoring in computer science at Stanford University. He has 3.8 GPA and he is an active member of the university's Robotics Club.\n",
      "\n",
      "Sample#2\n",
      "\n",
      "Abraham Lincoln was the 16th President of the United States. He served as President from 1861 to 1865, during one of the most challenging times in American history, the Civil War. Lincoln is best known for his leadership during the Civil War, his efforts to abolish slavery through the Emancipation Proclamation, and his Gettysburg Address. He is often regarded as one of the greatest Presidents in American history.\n",
      "\n",
      "Sample#3\n",
      "\n",
      "Function called: extract_school_info\n",
      "Stanford University is located in the United States. The university is ranked #5 in the world with 17000 students.\n"
     ]
    }
   ],
   "source": [
    "descriptions = [\n",
    "    student_1_description,\n",
    "    \"Who was Abraham Lincoln?\",\n",
    "    school_1_description\n",
    "    ]\n",
    "\n",
    "for i, sample in enumerate(descriptions):\n",
    "  print(f\"\\nSample#{i+1}\\n\")\n",
    "  response = openai.chat.completions.create(\n",
    "      model = 'gpt-3.5-turbo',\n",
    "      messages = [{'role': 'user', 'content': sample}],\n",
    "      functions = custom_functions,\n",
    "      function_call = 'auto'\n",
    "  )\n",
    "\n",
    "  response_message = response.choices[0].message\n",
    "\n",
    "  if dict(response_message).get('function_call'):\n",
    "\n",
    "      # Which function call was invoked\n",
    "      function_called = response_message.function_call.name\n",
    "      print(\"Function called:\",function_called)\n",
    "\n",
    "      # Extracting the arguments\n",
    "      function_args  = json.loads(response_message.function_call.arguments)\n",
    "\n",
    "      # Function names\n",
    "      available_functions = {\n",
    "          \"extract_school_info\": extract_school_info,\n",
    "          \"extract_student_info\": extract_student_info\n",
    "      }\n",
    "\n",
    "      function_to_call = available_functions[function_called]\n",
    "      response_message = function_to_call(*list(function_args .values()))\n",
    "\n",
    "  else:\n",
    "      response_message = response_message.content\n",
    "\n",
    "  print(response_message)"
   ]
  },
  {
   "cell_type": "markdown",
   "metadata": {
    "id": "1XEnyZRk0uuv"
   },
   "source": [
    "Question: Is openAi API implementing the function block?\n",
    "a. Yes\n",
    "b. No"
   ]
  },
  {
   "cell_type": "markdown",
   "metadata": {
    "id": "9Xc9ZlKr8hlI"
   },
   "source": [
    "1 LLM call.\n",
    "Define your prompt and add this understanding to the respective LLM\n",
    "Once you have all parameters - engineer some actions(which don't need any LLM),append the output in the conversation history."
   ]
  },
  {
   "cell_type": "markdown",
   "metadata": {
    "id": "yLZapqhV99ce"
   },
   "source": [
    "LLM - should converse with the user."
   ]
  }
 ],
 "metadata": {
  "colab": {
   "provenance": []
  },
  "kernelspec": {
   "display_name": "Python 3 (ipykernel)",
   "language": "python",
   "name": "python3"
  },
  "language_info": {
   "codemirror_mode": {
    "name": "ipython",
    "version": 3
   },
   "file_extension": ".py",
   "mimetype": "text/x-python",
   "name": "python",
   "nbconvert_exporter": "python",
   "pygments_lexer": "ipython3",
   "version": "3.11.7"
  }
 },
 "nbformat": 4,
 "nbformat_minor": 1
}
